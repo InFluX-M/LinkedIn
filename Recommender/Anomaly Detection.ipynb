{
 "cells": [
  {
   "cell_type": "code",
   "execution_count": null,
   "id": "375dad98",
   "metadata": {},
   "outputs": [],
   "source": [
    "import numpy as np\n",
    "import seaborn as sn\n",
    "import pandas as pd\n",
    "import matplotlib.pyplot as plt\n",
    "from sklearn.preprocessing import StandardScaler"
   ]
  },
  {
   "cell_type": "code",
   "execution_count": null,
   "id": "83026d70",
   "metadata": {},
   "outputs": [],
   "source": [
    "df = pd.read_json(\"/media/influx/Programming/Projects/project-final-random/Recommender/users.json\")\n",
    "df_train = df.drop(['dateOfBirth', 'name', 'email', 'profile_pic', 'connectionId'], axis=1)"
   ]
  },
  {
   "cell_type": "code",
   "execution_count": null,
   "id": "88a53493",
   "metadata": {},
   "outputs": [],
   "source": [
    "df_train = pd.get_dummies(df_train, columns=[\"field\"])\n",
    "df_train = pd.get_dummies(df_train, columns=[\"universityLocation\"])\n",
    "df_train = pd.get_dummies(df_train, columns=[\"workplace\"])"
   ]
  },
  {
   "cell_type": "code",
   "execution_count": null,
   "id": "3d037521",
   "metadata": {},
   "outputs": [],
   "source": [
    "spec = set(s for user in df_train['specialties'] for s in user)\n",
    "for special in spec:\n",
    "    df_train[special] = [0 for i in range(2003)]\n",
    "    \n",
    "i = 0\n",
    "for user in df_train['specialties']:\n",
    "    for s in user:\n",
    "        df_train.at[i, s] = 1\n",
    "    i+=1\n",
    "    \n",
    "df_train = df_train.drop(['specialties', 'id'], axis=1)"
   ]
  },
  {
   "cell_type": "code",
   "execution_count": null,
   "id": "a21d5d1c",
   "metadata": {},
   "outputs": [],
   "source": [
    "df_train"
   ]
  },
  {
   "cell_type": "code",
   "execution_count": null,
   "id": "38e672d2",
   "metadata": {},
   "outputs": [],
   "source": [
    "df_train.columns"
   ]
  },
  {
   "cell_type": "code",
   "execution_count": null,
   "id": "21feaebc",
   "metadata": {},
   "outputs": [],
   "source": [
    "ability_power = list()\n",
    "for user in df_train.values:\n",
    "    if(user[0] == 1):\n",
    "        power = 4\n",
    "    elif user[1] == 1:\n",
    "        power = 3\n",
    "    elif user[2] == 1:\n",
    "        power = 2\n",
    "    elif user[3] == 1:\n",
    "        power = 1\n",
    "    \n",
    "    ability = 0\n",
    "    for i in range(33, 55):\n",
    "        if(user[i] == 1):\n",
    "            ability += 1\n",
    "            \n",
    "    ability_power.append(ability/np.power(power, 2) + 1.373*np.power(power, 2)/ability)\n",
    "    "
   ]
  },
  {
   "cell_type": "code",
   "execution_count": null,
   "id": "fd6f0c38",
   "metadata": {},
   "outputs": [],
   "source": [
    "df_train['ability_power'] = ability_power\n",
    "\n",
    "df_train = df_train.drop(['field_AA', 'field_BB', 'field_CC', 'field_DD', 'Algorithm', 'Database', 'Game'], axis=1)\n",
    "df_train = df_train.drop(['Python', 'C#', 'Software', 'Back-End', 'Fast Type', 'Verilog'], axis=1)\n",
    "df_train = df_train.drop(['Photoshop', 'AI', 'Java', 'PHP', 'Data', 'Front-End', 'Hardware', 'Django'], axis=1)\n",
    "df_train = df_train.drop(['C++', 'Crypto', 'Full-Stack', 'IT', 'Machine Learning', 'Blockchain'], axis=1)"
   ]
  },
  {
   "cell_type": "code",
   "execution_count": null,
   "id": "5b47e115",
   "metadata": {},
   "outputs": [],
   "source": [
    "dsc = df_train['ability_power'].values\n",
    "sc = StandardScaler()\n",
    "dsc = dsc.reshape(-1,1)\n",
    "dsc = sc.fit_transform(dsc)\n",
    "\n",
    "df_train[\"ability_power\"] = dsc"
   ]
  },
  {
   "cell_type": "code",
   "execution_count": null,
   "id": "b74363e1",
   "metadata": {},
   "outputs": [],
   "source": [
    "df_train"
   ]
  },
  {
   "cell_type": "code",
   "execution_count": null,
   "id": "7e3b4fcb",
   "metadata": {},
   "outputs": [],
   "source": [
    "X = df_train.values"
   ]
  },
  {
   "cell_type": "code",
   "execution_count": null,
   "id": "8c46aa2c",
   "metadata": {},
   "outputs": [],
   "source": [
    "def estimate_gaussian(X): \n",
    "    m, n = X.shape\n",
    "    \n",
    "    mu = np.mean(X, axis=0)\n",
    "    var = np.var(X, axis=0)\n",
    "        \n",
    "    return mu, var"
   ]
  },
  {
   "cell_type": "code",
   "execution_count": null,
   "id": "e4c37abc",
   "metadata": {},
   "outputs": [],
   "source": [
    "def ProbabilityAnomaly(X):\n",
    "    mu , var = estimate_gaussian(X)\n",
    "    \n",
    "    P_X = dict()\n",
    "    idx = 0\n",
    "    for user in X:\n",
    "        p_x_i = (1/np.sqrt(2*np.pi*var))*np.exp(-(np.power(user-mu, 2))/(2*var))\n",
    "        P_X[idx] = np.prod(p_x_i)\n",
    "        idx += 1\n",
    "    \n",
    "    return P_X"
   ]
  },
  {
   "cell_type": "code",
   "execution_count": null,
   "id": "7584e989",
   "metadata": {},
   "outputs": [],
   "source": [
    "x = ProbabilityAnomaly(X)\n",
    "x = dict(sorted(x.items(), key=lambda item: item[1]))"
   ]
  },
  {
   "cell_type": "code",
   "execution_count": null,
   "id": "a657c988",
   "metadata": {},
   "outputs": [],
   "source": [
    "x"
   ]
  },
  {
   "cell_type": "code",
   "execution_count": null,
   "id": "2a1117fe",
   "metadata": {},
   "outputs": [],
   "source": [
    "epsilon = np.power(0.1, 20)"
   ]
  },
  {
   "cell_type": "code",
   "execution_count": null,
   "id": "2d2f3439",
   "metadata": {},
   "outputs": [],
   "source": [
    "anomaly_users = {(user, x[user]) for user in x if x[user] < epsilon}"
   ]
  },
  {
   "cell_type": "code",
   "execution_count": null,
   "id": "6b44b9e1",
   "metadata": {},
   "outputs": [],
   "source": [
    "anomaly_users"
   ]
  }
 ],
 "metadata": {
  "kernelspec": {
   "display_name": "Python 3 (ipykernel)",
   "language": "python",
   "name": "python3"
  },
  "language_info": {
   "codemirror_mode": {
    "name": "ipython",
    "version": 3
   },
   "file_extension": ".py",
   "mimetype": "text/x-python",
   "name": "python",
   "nbconvert_exporter": "python",
   "pygments_lexer": "ipython3",
   "version": "3.10.8"
  }
 },
 "nbformat": 4,
 "nbformat_minor": 5
}
